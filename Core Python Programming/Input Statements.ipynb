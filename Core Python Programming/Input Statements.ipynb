{
 "cells": [
  {
   "cell_type": "code",
   "execution_count": 2,
   "metadata": {
    "collapsed": true
   },
   "outputs": [],
   "source": [
    "# Input Statements"
   ]
  },
  {
   "cell_type": "code",
   "execution_count": 8,
   "metadata": {},
   "outputs": [
    {
     "name": "stdout",
     "output_type": "stream",
     "text": [
      "Enter Your First Name: Manjunath\n",
      "Enter Your Last Name: N P\n",
      "Enter Your City: Bengaluru\n",
      "Enter Bengaluru's Current Temperature in Degree Celcius: 24.1\n",
      "\n",
      "Welcome Manjunath N P!\n",
      "Bengaluru's Current Temperature is 24.1\n"
     ]
    }
   ],
   "source": [
    "fname = input(\"Enter Your First Name: \")\n",
    "lname = input(\"Enter Your Last Name: \")\n",
    "city = input(\"Enter Your City: \")\n",
    "temp = float(input(\"Enter {}'s Current Temperature in Degree Celcius: \".format(city)))\n",
    "\n",
    "print(\"\\nWelcome {fn} {ln}!\\n{c}'s Current Temperature is {t}\".format(fn=fname, ln=lname, c=city, t=temp))"
   ]
  },
  {
   "cell_type": "code",
   "execution_count": 10,
   "metadata": {},
   "outputs": [
    {
     "name": "stdout",
     "output_type": "stream",
     "text": [
      "Enter series of characters: abcd\n",
      "Single first letter from abcd:  a\n"
     ]
    }
   ],
   "source": [
    "#Character Only Demo\n",
    "\n",
    "text = input(\"Enter series of characters: \")\n",
    "print(\"Single first letter from {}: \".format(text), text[0])"
   ]
  },
  {
   "cell_type": "code",
   "execution_count": 13,
   "metadata": {},
   "outputs": [
    {
     "name": "stdout",
     "output_type": "stream",
     "text": [
      "Enter Integer Value: 5\n",
      "Enter Float Value: 3.2\n",
      "Enter String Value: Hello Python!\n",
      "Enter A Single Character Value: P\n",
      "\n",
      "Integer Value Entered:  5\n",
      "Float Value Entered:  3.2\n",
      "String Value Entered:  Hello Python!\n",
      "Character Value Entered:  P\n"
     ]
    }
   ],
   "source": [
    "int_val = int(input(\"Enter Integer Value: \"))\n",
    "float_val = float(input(\"Enter Float Value: \"))\n",
    "str_val = input(\"Enter String Value: \")\n",
    "ch_val = input(\"Enter A Single Character Value: \")\n",
    "\n",
    "print()\n",
    "print(\"Integer Value Entered: \", int_val)\n",
    "print(\"Float Value Entered: \", float_val)\n",
    "print(\"String Value Entered: \", str_val)\n",
    "print(\"Character Value Entered: \", ch_val)"
   ]
  },
  {
   "cell_type": "code",
   "execution_count": 24,
   "metadata": {},
   "outputs": [
    {
     "name": "stdout",
     "output_type": "stream",
     "text": [
      "Enter the value of n1: 150\n",
      "Enter the value of n2: 20\n",
      "\n",
      "Addition of 150 + 20 = 170\n",
      "Product of 150 * 20 = 3000\n",
      "Differnece of 150 / 20 = 130\n",
      "Mod of 150 % 20 = 10\n",
      "Division of 150 / 20 = 10\n"
     ]
    }
   ],
   "source": [
    "# Mathematical Basic Operations\n",
    "\n",
    "n1 = int(input(\"Enter the value of n1: \"))\n",
    "n2 = int(input(\"Enter the value of n2: \"))\n",
    "\n",
    "sum = n1+n2 # Addition\n",
    "prod = n1*n2 # Subtraction\n",
    "diff = n1-n2 # Division\n",
    "mod = n1%n2 # Modulus\n",
    "div = n1%n2 # Division\n",
    "\n",
    "print()\n",
    "\n",
    "print(\"Addition of {} + {} = {}\".format(n1, n2, sum))\n",
    "print(\"Product of {} * {} = {}\".format(n1, n2, prod))\n",
    "print(\"Differnece of {} / {} = {}\".format(n1, n2, diff))\n",
    "print(\"Mod of {} % {} = {}\".format(n1, n2, mod))\n",
    "print(\"Division of {} / {} = {}\".format(n1, n2, div))"
   ]
  },
  {
   "cell_type": "code",
   "execution_count": null,
   "metadata": {
    "collapsed": true
   },
   "outputs": [],
   "source": []
  }
 ],
 "metadata": {
  "kernelspec": {
   "display_name": "Python 3",
   "language": "python",
   "name": "python3"
  },
  "language_info": {
   "codemirror_mode": {
    "name": "ipython",
    "version": 3
   },
   "file_extension": ".py",
   "mimetype": "text/x-python",
   "name": "python",
   "nbconvert_exporter": "python",
   "pygments_lexer": "ipython3",
   "version": "3.6.1"
  }
 },
 "nbformat": 4,
 "nbformat_minor": 2
}
