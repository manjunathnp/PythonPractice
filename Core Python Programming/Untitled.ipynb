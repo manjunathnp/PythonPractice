{
 "cells": [
  {
   "cell_type": "code",
   "execution_count": 1,
   "metadata": {},
   "outputs": [
    {
     "name": "stdout",
     "output_type": "stream",
     "text": [
      "Input your favourite color: blue\n",
      "Your favourite color is Blue!\n"
     ]
    }
   ],
   "source": [
    "# if Statements\n",
    "\n",
    "color = input(\"Input your favourite color: \")\n",
    "if (color == 'Blue' or color == 'blue'):\n",
    "    print(\"Your favourite color is Blue!\")\n",
    "elif (color == \"Red\" or color == 'red'):\n",
    "    print(\"Your favourite color is Red!\")\n",
    "elif (color == 'Green' or color == 'green'):\n",
    "    print(\"Your favourite color is Green!\")\n",
    "else:\n",
    "    print(\"Your favourite color is {}!\".format(color))"
   ]
  },
  {
   "cell_type": "code",
   "execution_count": null,
   "metadata": {
    "collapsed": true
   },
   "outputs": [],
   "source": []
  }
 ],
 "metadata": {
  "kernelspec": {
   "display_name": "Python 3",
   "language": "python",
   "name": "python3"
  },
  "language_info": {
   "codemirror_mode": {
    "name": "ipython",
    "version": 3
   },
   "file_extension": ".py",
   "mimetype": "text/x-python",
   "name": "python",
   "nbconvert_exporter": "python",
   "pygments_lexer": "ipython3",
   "version": "3.6.1"
  }
 },
 "nbformat": 4,
 "nbformat_minor": 2
}
