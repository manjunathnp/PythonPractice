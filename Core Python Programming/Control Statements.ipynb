{
 "cells": [
  {
   "cell_type": "code",
   "execution_count": 1,
   "metadata": {
    "collapsed": true
   },
   "outputs": [],
   "source": [
    "# if Statements"
   ]
  },
  {
   "cell_type": "code",
   "execution_count": 1,
   "metadata": {},
   "outputs": [
    {
     "name": "stdout",
     "output_type": "stream",
     "text": [
      "Enter any integer value between 1 and 10: 10\n",
      "Entered number is 10\n"
     ]
    }
   ],
   "source": [
    "num = int(input(\"Enter any integer value between 1 and 10: \"))\n",
    "\n",
    "if (num >=1 and num <= 10):\n",
    "    print(\"Entered number is {}\".format(num))\n",
    "else:\n",
    "    print(\"Invalid Number {} entered\".format(num))"
   ]
  },
  {
   "cell_type": "code",
   "execution_count": 3,
   "metadata": {},
   "outputs": [
    {
     "name": "stdout",
     "output_type": "stream",
     "text": [
      "Input your favourite color: Lavender\n",
      "Your favourite color is Lavender!\n"
     ]
    }
   ],
   "source": [
    "color = input(\"Input your favourite color: \")\n",
    "if (color == 'Blue' or color == 'blue'):\n",
    "    print(\"Your favourite color is Blue!\")\n",
    "elif (color == \"Red\" or color == 'red'):\n",
    "    print(\"Your favourite color is Red!\")\n",
    "elif (color == 'Green' or color == 'green'):\n",
    "    print(\"Your favourite color is Green!\")\n",
    "else:\n",
    "    print(\"Your favourite color is {}!\".format(color))"
   ]
  },
  {
   "cell_type": "code",
   "execution_count": 6,
   "metadata": {},
   "outputs": [
    {
     "name": "stdout",
     "output_type": "stream",
     "text": [
      "Enter any number to find its EVEN or ODD: -9\n",
      "-9 is ODD Number\n"
     ]
    }
   ],
   "source": [
    "num = int(input(\"Enter any number to find its EVEN or ODD: \"))\n",
    "\n",
    "if (num % 2 == 0):\n",
    "    print(\"{} is EVEN Number\".format(num))\n",
    "else:\n",
    "    print(\"{} is ODD Number\".format(num))"
   ]
  },
  {
   "cell_type": "code",
   "execution_count": 19,
   "metadata": {},
   "outputs": [
    {
     "name": "stdout",
     "output_type": "stream",
     "text": [
      "Enter any number to find its EVEN or ODD: 5\n",
      "5 is Positive Odd Number\n"
     ]
    }
   ],
   "source": [
    "num = int(input(\"Enter any number to find its EVEN or ODD: \"))\n",
    "\n",
    "if(num > 0):\n",
    "    if(num % 2 == 0):\n",
    "        print(\"{} is Positive Even Number\".format(num))\n",
    "    else:\n",
    "        print(\"{} is Positive Odd Number\".format(num))\n",
    "        \n",
    "if(num < 0):\n",
    "    if(num % 2 == 0):\n",
    "        print(\"{} is Negative Even Number\".format(num))\n",
    "    else:\n",
    "        print(\"{} is Negative Odd Number\".format(num))\n",
    "\n",
    "\n",
    "        "
   ]
  },
  {
   "cell_type": "code",
   "execution_count": 2,
   "metadata": {},
   "outputs": [
    {
     "name": "stdout",
     "output_type": "stream",
     "text": [
      "Allow it to play!\n"
     ]
    }
   ],
   "source": [
    "dog_hungry = False\n",
    "\n",
    "if dog_hungry:\n",
    "    print(\"Feed the Dog!\")\n",
    "else:\n",
    "    print(\"Allow it to play!\")"
   ]
  },
  {
   "cell_type": "code",
   "execution_count": 6,
   "metadata": {},
   "outputs": [
    {
     "name": "stdout",
     "output_type": "stream",
     "text": [
      "Pin Code of Rajajinagar: 560010\n"
     ]
    }
   ],
   "source": [
    "loc = \"Rajajinagar\"\n",
    "\n",
    "if (loc == \"Banashankari\"):\n",
    "    print(\"Pin Code of Banashankari: 560085\")\n",
    "elif (loc == \"Rajajinagar\"):\n",
    "    print(\"Pin Code of Rajajinagar: 560010\")\n",
    "elif (loc == \"M.G.Road\"):\n",
    "    print(\"Pin Code of M.G.Road: 560001\")\n",
    "else:\n",
    "    print(\"Information Currently Unavailable\")"
   ]
  },
  {
   "cell_type": "code",
   "execution_count": 7,
   "metadata": {
    "collapsed": true
   },
   "outputs": [],
   "source": [
    "# for Statement"
   ]
  },
  {
   "cell_type": "code",
   "execution_count": 8,
   "metadata": {
    "collapsed": true
   },
   "outputs": [],
   "source": [
    "items = [1, 2, 3, 4, 5]"
   ]
  },
  {
   "cell_type": "code",
   "execution_count": 9,
   "metadata": {},
   "outputs": [
    {
     "name": "stdout",
     "output_type": "stream",
     "text": [
      "1\n",
      "2\n",
      "3\n",
      "4\n",
      "5\n"
     ]
    }
   ],
   "source": [
    "for num in items:\n",
    "    print(num)"
   ]
  },
  {
   "cell_type": "code",
   "execution_count": 14,
   "metadata": {},
   "outputs": [
    {
     "name": "stdout",
     "output_type": "stream",
     "text": [
      "1. Hi\n",
      "2. Hi\n",
      "3. Hi\n",
      "4. Hi\n",
      "5. Hi\n"
     ]
    }
   ],
   "source": [
    "for n in items:\n",
    "    print(\"{num}. Hi\".format(num=n))"
   ]
  },
  {
   "cell_type": "code",
   "execution_count": 20,
   "metadata": {},
   "outputs": [
    {
     "name": "stdout",
     "output_type": "stream",
     "text": [
      "Even Numbers:\n",
      "2\n",
      "4\n"
     ]
    }
   ],
   "source": [
    "print(\"Even Numbers:\")\n",
    "for n in items:\n",
    "    if(n%2 == 0):\n",
    "        print(n)"
   ]
  },
  {
   "cell_type": "code",
   "execution_count": 21,
   "metadata": {},
   "outputs": [
    {
     "name": "stdout",
     "output_type": "stream",
     "text": [
      "Sum of items: 15\n"
     ]
    }
   ],
   "source": [
    "list_sum = 0\n",
    "\n",
    "for num in items:\n",
    "    list_sum = list_sum + num\n",
    "\n",
    "print(\"Sum of items:\", list_sum)"
   ]
  },
  {
   "cell_type": "code",
   "execution_count": 22,
   "metadata": {},
   "outputs": [
    {
     "name": "stdout",
     "output_type": "stream",
     "text": [
      "H\n",
      "e\n",
      "l\n",
      "l\n",
      "o\n",
      " \n",
      "W\n",
      "o\n",
      "r\n",
      "l\n",
      "d\n",
      "!\n"
     ]
    }
   ],
   "source": [
    "strlist = \"Hello World!\"\n",
    "\n",
    "for letter in strlist:\n",
    "    print(letter)"
   ]
  },
  {
   "cell_type": "code",
   "execution_count": 23,
   "metadata": {},
   "outputs": [
    {
     "name": "stdout",
     "output_type": "stream",
     "text": [
      "(1, 2)\n",
      "(3, 4)\n",
      "(5, 6)\n"
     ]
    }
   ],
   "source": [
    "tup_list = [(1, 2), (3, 4), (5, 6)]\n",
    "\n",
    "for n in tup_list:\n",
    "    print(n)"
   ]
  },
  {
   "cell_type": "code",
   "execution_count": 24,
   "metadata": {},
   "outputs": [
    {
     "data": {
      "text/plain": [
       "3"
      ]
     },
     "execution_count": 24,
     "metadata": {},
     "output_type": "execute_result"
    }
   ],
   "source": [
    "len(tup_list)"
   ]
  },
  {
   "cell_type": "code",
   "execution_count": 25,
   "metadata": {},
   "outputs": [
    {
     "name": "stdout",
     "output_type": "stream",
     "text": [
      "2\n",
      "4\n",
      "6\n"
     ]
    }
   ],
   "source": [
    "for (a,b) in tup_list:\n",
    "    print(b)"
   ]
  },
  {
   "cell_type": "code",
   "execution_count": 26,
   "metadata": {},
   "outputs": [
    {
     "name": "stdout",
     "output_type": "stream",
     "text": [
      "1\n",
      "3\n",
      "5\n"
     ]
    }
   ],
   "source": [
    "for (a,b) in tup_list:\n",
    "    print(a)"
   ]
  },
  {
   "cell_type": "code",
   "execution_count": 29,
   "metadata": {},
   "outputs": [
    {
     "name": "stdout",
     "output_type": "stream",
     "text": [
      "2 1\n",
      "4 3\n",
      "6 5\n"
     ]
    }
   ],
   "source": [
    "for (a,b) in tup_list:\n",
    "    print(b,a)"
   ]
  },
  {
   "cell_type": "code",
   "execution_count": 41,
   "metadata": {},
   "outputs": [
    {
     "name": "stdout",
     "output_type": "stream",
     "text": [
      "k1:1\n",
      "k2:2\n",
      "k3:3\n"
     ]
    }
   ],
   "source": [
    "d = {'k1':1, 'k2':2, 'k3':3}\n",
    "\n",
    "for k,v in d.items():\n",
    "    print(k, v, sep =':')"
   ]
  },
  {
   "cell_type": "code",
   "execution_count": null,
   "metadata": {
    "collapsed": true
   },
   "outputs": [],
   "source": []
  }
 ],
 "metadata": {
  "kernelspec": {
   "display_name": "Python 3",
   "language": "python",
   "name": "python3"
  },
  "language_info": {
   "codemirror_mode": {
    "name": "ipython",
    "version": 3
   },
   "file_extension": ".py",
   "mimetype": "text/x-python",
   "name": "python",
   "nbconvert_exporter": "python",
   "pygments_lexer": "ipython3",
   "version": "3.6.1"
  }
 },
 "nbformat": 4,
 "nbformat_minor": 2
}
