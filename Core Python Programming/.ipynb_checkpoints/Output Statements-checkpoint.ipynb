{
 "cells": [
  {
   "cell_type": "code",
   "execution_count": 1,
   "metadata": {},
   "outputs": [
    {
     "name": "stdout",
     "output_type": "stream",
     "text": [
      "\n"
     ]
    }
   ],
   "source": [
    "print()"
   ]
  },
  {
   "cell_type": "code",
   "execution_count": 2,
   "metadata": {},
   "outputs": [
    {
     "name": "stdout",
     "output_type": "stream",
     "text": [
      "Good Morning! Python\n"
     ]
    }
   ],
   "source": [
    "print(\"Good Morning! Python\")"
   ]
  },
  {
   "cell_type": "code",
   "execution_count": 3,
   "metadata": {},
   "outputs": [
    {
     "name": "stdout",
     "output_type": "stream",
     "text": [
      "Hello!\n"
     ]
    }
   ],
   "source": [
    "print('Hello!')"
   ]
  },
  {
   "cell_type": "code",
   "execution_count": 5,
   "metadata": {},
   "outputs": [
    {
     "name": "stdout",
     "output_type": "stream",
     "text": [
      "This is a Path = F:\\NPMN\\Python\\Core Python Programming\n"
     ]
    }
   ],
   "source": [
    "print(\"This is a Path = F:\\\\NPMN\\Python\\\\Core Python Programming\")"
   ]
  },
  {
   "cell_type": "code",
   "execution_count": 7,
   "metadata": {},
   "outputs": [
    {
     "name": "stdout",
     "output_type": "stream",
     "text": [
      "You are Awesome! You are Awesome! You are Awesome! You are Awesome! You are Awesome! \n"
     ]
    }
   ],
   "source": [
    "print(5 * \"You are Awesome! \")"
   ]
  },
  {
   "cell_type": "code",
   "execution_count": 8,
   "metadata": {},
   "outputs": [
    {
     "name": "stdout",
     "output_type": "stream",
     "text": [
      "You are Amazing! You are Amazing! You are Amazing! \n"
     ]
    }
   ],
   "source": [
    "you = \"You are Amazing! \"\n",
    "\n",
    "print(3 * you)"
   ]
  },
  {
   "cell_type": "code",
   "execution_count": 9,
   "metadata": {},
   "outputs": [
    {
     "name": "stdout",
     "output_type": "stream",
     "text": [
      "Country=India\n"
     ]
    }
   ],
   "source": [
    "print(\"Country=\"+\"India\")"
   ]
  },
  {
   "cell_type": "code",
   "execution_count": 10,
   "metadata": {},
   "outputs": [
    {
     "name": "stdout",
     "output_type": "stream",
     "text": [
      "State = Karnataka\n"
     ]
    }
   ],
   "source": [
    "print(\"State =\", \"Karnataka\")"
   ]
  },
  {
   "cell_type": "code",
   "execution_count": 12,
   "metadata": {},
   "outputs": [
    {
     "name": "stdout",
     "output_type": "stream",
     "text": [
      "City = Bengaluru\n"
     ]
    }
   ],
   "source": [
    "city = \"Bengaluru\"\n",
    "\n",
    "print(\"City =\", city)"
   ]
  },
  {
   "cell_type": "code",
   "execution_count": 13,
   "metadata": {},
   "outputs": [
    {
     "name": "stdout",
     "output_type": "stream",
     "text": [
      "Python Path Name: C:\\Python\\Practice\n",
      "Python URL: https://python.org/doc/\n"
     ]
    }
   ],
   "source": [
    "path = \"C:\\Python\\Practice\"\n",
    "url = \"https://python.org/doc/\"\n",
    "\n",
    "print(\"Python Path Name:\", path)\n",
    "print(\"Python URL:\", url)"
   ]
  },
  {
   "cell_type": "code",
   "execution_count": 21,
   "metadata": {},
   "outputs": [
    {
     "name": "stdout",
     "output_type": "stream",
     "text": [
      "10\n",
      "20\n",
      "10 20\n",
      "10, 20\n",
      "10 : 20\n",
      "10 || 20\n"
     ]
    }
   ],
   "source": [
    "a, b = 10, 20\n",
    "\n",
    "print(a)\n",
    "print(b)\n",
    "\n",
    "print(a, b)\n",
    "print(a, b, sep=', ') # Seperators == sep\n",
    "print(a, b, sep=' : ')\n",
    "print(a, b, sep=' || ')"
   ]
  },
  {
   "cell_type": "code",
   "execution_count": 24,
   "metadata": {},
   "outputs": [
    {
     "name": "stdout",
     "output_type": "stream",
     "text": [
      "This will not print in next line prints in same line\there is a tab out\n"
     ]
    }
   ],
   "source": [
    "print(\"This will not print in\", end=\" \")\n",
    "print(\"next line\", end = ' ')\n",
    "print(\"prints in same line\", end = '\\t')\n",
    "print(\"here is a tab out\")"
   ]
  },
  {
   "cell_type": "code",
   "execution_count": 30,
   "metadata": {},
   "outputs": [
    {
     "name": "stdout",
     "output_type": "stream",
     "text": [
      "Print List: ['10', '1.2', 'this is string', 'c']\n",
      "Print Dictionary {'Book1': 'Python', 'Book2': 'Machine Learning', 'Book3': 'Data Science'}\n"
     ]
    }
   ],
   "source": [
    "#List\n",
    "lst1 = ['10', '1.2', \"this is string\", 'c']\n",
    "\n",
    "#Dictionary\n",
    "dict1 = {'Book1': \"Python\", 'Book2': 'Machine Learning','Book3':'Data Science'}\n",
    "\n",
    "print(\"Print List:\", lst1)\n",
    "print(\"Print Dictionary\", dict1)"
   ]
  },
  {
   "cell_type": "code",
   "execution_count": 42,
   "metadata": {},
   "outputs": [
    {
     "name": "stdout",
     "output_type": "stream",
     "text": [
      "This is an Integer 5\n",
      "This is an Float 2.500000 and Integer 5\n",
      "This is a Character          a\n",
      "This is a String Hello World!\n"
     ]
    }
   ],
   "source": [
    "# Formatted Strings\n",
    "\n",
    "a = 5\n",
    "b = 2.5\n",
    "c = 'a'\n",
    "d = \"Hello World!\"\n",
    "\n",
    "print(\"This is an Integer %d\" %a)\n",
    "print(\"This is an Float %f and Integer %i\" %(b, a))\n",
    "print(\"This is a Character %10s\" %c)\n",
    "print(\"This is a String %s\" %d)"
   ]
  },
  {
   "cell_type": "code",
   "execution_count": 49,
   "metadata": {},
   "outputs": [
    {
     "name": "stdout",
     "output_type": "stream",
     "text": [
      "Number1 = 10, Number2 = 20, Number3 = 30\n",
      "Number1 = 10, Number2 = 20, Number3 = 30\n",
      "Number1 = 10, Number2 = 20, Number3 = 30\n"
     ]
    }
   ],
   "source": [
    "n1, n2, n3 = 10, 20, 30\n",
    "\n",
    "print(\"Number1 = {0}, Number2 = {1}, Number3 = {2}\" .format(n1, n2, n3))\n",
    "print(\"Number1 = {val1}, Number2 = {val2}, Number3 = {val3}\" .format(val1=n1, val2=n2, val3=n3))\n",
    "print(\"Number1 = {}, Number2 = {}, Number3 = {}\" .format(n1, n2, n3))"
   ]
  },
  {
   "cell_type": "code",
   "execution_count": 54,
   "metadata": {},
   "outputs": [
    {
     "name": "stdout",
     "output_type": "stream",
     "text": [
      "Hello Rahul!! your Salary = 120000\n",
      "Hello Rahul!! your Salary = 120000\n",
      "Hello Rahul!! your Salary = 120000\n"
     ]
    }
   ],
   "source": [
    "name = \"Rahul\"\n",
    "sal = 120000\n",
    "\n",
    "print(\"Hello {}!! your Salary = {}\" .format(name, sal))\n",
    "\n",
    "print(\"Hello {n}!! your Salary = {s}\" .format(n=name, s=sal))\n",
    "\n",
    "print(\"Hello %s!! your Salary = %d\" %(name, sal))"
   ]
  },
  {
   "cell_type": "code",
   "execution_count": null,
   "metadata": {
    "collapsed": true
   },
   "outputs": [],
   "source": []
  }
 ],
 "metadata": {
  "kernelspec": {
   "display_name": "Python 3",
   "language": "python",
   "name": "python3"
  },
  "language_info": {
   "codemirror_mode": {
    "name": "ipython",
    "version": 3
   },
   "file_extension": ".py",
   "mimetype": "text/x-python",
   "name": "python",
   "nbconvert_exporter": "python",
   "pygments_lexer": "ipython3",
   "version": "3.6.1"
  }
 },
 "nbformat": 4,
 "nbformat_minor": 2
}
