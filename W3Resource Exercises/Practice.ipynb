{
 "cells": [
  {
   "cell_type": "code",
   "execution_count": 40,
   "metadata": {
    "collapsed": true
   },
   "outputs": [],
   "source": [
    "import sys"
   ]
  },
  {
   "cell_type": "code",
   "execution_count": 41,
   "metadata": {},
   "outputs": [
    {
     "name": "stdout",
     "output_type": "stream",
     "text": [
      "3.6.1 |Anaconda custom (32-bit)| (default, May 11 2017, 14:16:49) [MSC v.1900 32 bit (Intel)]\n"
     ]
    }
   ],
   "source": [
    "version = sys.version\n",
    "print(version)"
   ]
  },
  {
   "cell_type": "code",
   "execution_count": 42,
   "metadata": {
    "collapsed": true
   },
   "outputs": [],
   "source": [
    "import datetime"
   ]
  },
  {
   "cell_type": "code",
   "execution_count": 43,
   "metadata": {},
   "outputs": [
    {
     "name": "stdout",
     "output_type": "stream",
     "text": [
      "2019-04-14 14:34:18.890401\n",
      "Sun\n",
      "Sunday\n",
      "04/14/19 - 14:34:18 - Sunday\n",
      "Sun Apr 14 14:34:18 2019\n"
     ]
    }
   ],
   "source": [
    "now = datetime.datetime.now()\n",
    "#print(now.strftime(\"%D - %H:%M:%S - \"))\n",
    "print(now)\n",
    "print(now.strftime(\"%a\"))\n",
    "print(now.strftime(\"%A\"))\n",
    "print(now.strftime(\"%D - %H:%M:%S - %A\"))\n",
    "print(now.strftime(\"%c\"))"
   ]
  },
  {
   "cell_type": "raw",
   "metadata": {},
   "source": [
    "6. Write a Python program which accepts a sequence of comma-separated numbers from user and generate a list with those numbers. "
   ]
  },
  {
   "cell_type": "code",
   "execution_count": 44,
   "metadata": {},
   "outputs": [
    {
     "name": "stdout",
     "output_type": "stream",
     "text": [
      "Enter the number seperated by comma: 1, 2, 4\n",
      "\n",
      "List:\n",
      "['1', ' 2', ' 4']\n",
      "\n",
      "Tuple:\n",
      "('1', ' 2', ' 4')\n"
     ]
    }
   ],
   "source": [
    "num = input(\"Enter the number seperated by comma: \")\n",
    "\n",
    "list = num.split(',')\n",
    "\n",
    "print(\"\\nList:\")\n",
    "print(list)\n",
    "\n",
    "print(\"\\nTuple:\")\n",
    "print(tuple(list))"
   ]
  },
  {
   "cell_type": "code",
   "execution_count": null,
   "metadata": {
    "scrolled": true
   },
   "outputs": [],
   "source": [
    "values = input(\"Enter the values: \")\n",
    "\n",
    "lst = values.split(',')\n",
    "\n",
    "print(lst)\n",
    "\n",
    "print(tuple(lst))"
   ]
  },
  {
   "cell_type": "code",
   "execution_count": 46,
   "metadata": {},
   "outputs": [
    {
     "name": "stdout",
     "output_type": "stream",
     "text": [
      "Enter the filename: test.py\n",
      "The extension of the file 'test.py' is .py\n"
     ]
    }
   ],
   "source": [
    "file_name = input(\"Enter the filename: \")\n",
    "\n",
    "file_ext = file_name.split('.')\n",
    "\n",
    "print(\"The extension of the file '{}' is\".format(file_name),\".\"+file_ext[-1])\n",
    "\n"
   ]
  }
 ],
 "metadata": {
  "kernelspec": {
   "display_name": "Python 3",
   "language": "python",
   "name": "python3"
  },
  "language_info": {
   "codemirror_mode": {
    "name": "ipython",
    "version": 3
   },
   "file_extension": ".py",
   "mimetype": "text/x-python",
   "name": "python",
   "nbconvert_exporter": "python",
   "pygments_lexer": "ipython3",
   "version": "3.6.1"
  }
 },
 "nbformat": 4,
 "nbformat_minor": 2
}
