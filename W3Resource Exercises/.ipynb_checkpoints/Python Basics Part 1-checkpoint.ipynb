{
 "cells": [
  {
   "cell_type": "raw",
   "metadata": {},
   "source": [
    "1. Write a Python program to print the following string in a specific format (see the output). Go to the editor\n",
    "Sample String : \"Twinkle, twinkle, little star, How I wonder what you are! Up above the world so high, Like a diamond in the sky. Twinkle, twinkle, little star, How I wonder what you are\" Output :\n",
    "\n",
    "Twinkle, twinkle, little star,\n",
    "\tHow I wonder what you are! \n",
    "\t\tUp above the world so high,   \t\t\n",
    "\t\tLike a diamond in the sky. \n",
    "Twinkle, twinkle, little star, \n",
    "\tHow I wonder what you are"
   ]
  },
  {
   "cell_type": "code",
   "execution_count": 8,
   "metadata": {},
   "outputs": [
    {
     "name": "stdout",
     "output_type": "stream",
     "text": [
      "Twinkle, twinkle, little star,\n",
      "\tHow I wonder what you are!\n",
      "\t\tUp above the world so high,\n",
      "\t\tLike a diamond in the sky.\n",
      "Twinkle, twinkle, little star,\n",
      "\tHow I wonder what you are\n"
     ]
    }
   ],
   "source": [
    "print(\"Twinkle, twinkle, little star,\\n\\tHow I wonder what you are!\\n\\t\\tUp above the world so high,\\n\\t\\tLike a diamond in the sky.\\nTwinkle, twinkle, little star,\\n\\tHow I wonder what you are\")"
   ]
  },
  {
   "cell_type": "raw",
   "metadata": {},
   "source": [
    "2. Write a Python program to get the Python version you are using."
   ]
  },
  {
   "cell_type": "code",
   "execution_count": 13,
   "metadata": {},
   "outputs": [
    {
     "name": "stdout",
     "output_type": "stream",
     "text": [
      "Version:\n",
      " 3.6.1 |Anaconda custom (32-bit)| (default, May 11 2017, 14:16:49) [MSC v.1900 32 bit (Intel)]\n",
      "Version Info:\n",
      " sys.version_info(major=3, minor=6, micro=1, releaselevel='final', serial=0)\n"
     ]
    }
   ],
   "source": [
    "import sys\n",
    "print(\"Version:\\n\", sys.version)\n",
    "print(\"Version Info:\\n\", sys.version_info)"
   ]
  },
  {
   "cell_type": "raw",
   "metadata": {},
   "source": [
    "3. Write a Python program to display the current date and time."
   ]
  },
  {
   "cell_type": "code",
   "execution_count": 49,
   "metadata": {},
   "outputs": [
    {
     "name": "stdout",
     "output_type": "stream",
     "text": [
      "Current Date & Time::  2019-04-07 20:18:38.793687\n",
      "Current Date:: 2019-04-07\n",
      "Current Day:: 7\n",
      "Today is:: Sunday\n",
      "04/07/19\n"
     ]
    }
   ],
   "source": [
    "import datetime\n",
    "\n",
    "print(\"Current Date & Time:: \", datetime.datetime.now())\n",
    "print(\"Current Date::\", now.date())\n",
    "print(\"Current Day::\", now.day)\n",
    "print(now.strftime(\"Today is:: %A\"))\n",
    "print(now.strftime(\"%m/%d/%y\"))\n"
   ]
  },
  {
   "cell_type": "raw",
   "metadata": {
    "collapsed": true
   },
   "source": [
    "4. Write a Python program which accepts the radius of a circle from the user and compute the area."
   ]
  },
  {
   "cell_type": "code",
   "execution_count": 9,
   "metadata": {},
   "outputs": [
    {
     "name": "stdout",
     "output_type": "stream",
     "text": [
      "Input the radius of the circle - 'r': 5\n",
      "Area of the Circle having radius 5.0 =  78.54\n"
     ]
    }
   ],
   "source": [
    "from math import pi\n",
    "radius = float(input(\"Input the radius of the circle - 'r': \"))\n",
    "\n",
    "#Area of Cirlce\n",
    "circle_area = pi * (radius ** 2)\n",
    "print(\"Area of the Circle having radius {} = \".format(radius), round(circle_area, 2))"
   ]
  },
  {
   "cell_type": "raw",
   "metadata": {},
   "source": [
    "5. Write a Python program which accepts the user's first and last name and print them in reverse order with a space between them."
   ]
  },
  {
   "cell_type": "code",
   "execution_count": 11,
   "metadata": {},
   "outputs": [
    {
     "name": "stdout",
     "output_type": "stream",
     "text": [
      "Enter your First Name: Manjunath\n",
      "Enter your Last Name: N P\n",
      "Welcome! Manjunath N P\n",
      "Hello! N P Manjunath\n"
     ]
    }
   ],
   "source": [
    "fname = input(\"Enter your First Name: \")\n",
    "lname = input(\"Enter your Last Name: \")\n",
    "\n",
    "fullname = fname+' '+lname\n",
    "print(\"Welcome! {}\".format(fullname))\n",
    "\n",
    "#Reverse order\n",
    "print(\"Hello! {} {}\".format(lname, fname))"
   ]
  },
  {
   "cell_type": "code",
   "execution_count": null,
   "metadata": {
    "collapsed": true
   },
   "outputs": [],
   "source": []
  }
 ],
 "metadata": {
  "kernelspec": {
   "display_name": "Python 3",
   "language": "python",
   "name": "python3"
  },
  "language_info": {
   "codemirror_mode": {
    "name": "ipython",
    "version": 3
   },
   "file_extension": ".py",
   "mimetype": "text/x-python",
   "name": "python",
   "nbconvert_exporter": "python",
   "pygments_lexer": "ipython3",
   "version": "3.6.1"
  }
 },
 "nbformat": 4,
 "nbformat_minor": 2
}
